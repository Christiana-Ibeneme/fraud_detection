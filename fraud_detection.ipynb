{
  "cells": [
    {
      "cell_type": "markdown",
      "metadata": {
        "id": "_RGo-flKDxHv"
      },
      "source": [
        "# Setting up section"
      ]
    },
    {
      "cell_type": "code",
      "execution_count": null,
      "metadata": {
        "id": "koV1sNnSmyoW"
      },
      "outputs": [],
      "source": [
        "#Import the needed libraries\n",
        "import pandas as pd\n",
        "import numpy as np\n",
        "%matplotlib inline\n",
        "import matplotlib.pyplot as plt\n",
        "import matplotlib.lines as mlines\n",
        "import seaborn as sns\n",
        "from sklearn.model_selection import train_test_split, learning_curve\n",
        "from sklearn.metrics import average_precision_score\n",
        "from sklearn.model_selection import GridSearchCV\n",
        "from xgboost import plot_importance, to_graphviz\n",
        "import matplotlib.pyplot as plt\n",
        "import seaborn as sns\n",
        "from collections import Counter"
      ]
    },
    {
      "cell_type": "code",
      "execution_count": null,
      "metadata": {
        "id": "HQy94qUsNIBG"
      },
      "outputs": [],
      "source": [
        "from sklearn.model_selection import train_test_split\n",
        "from sklearn.preprocessing import MinMaxScaler\n",
        "# Import the packages\n",
        "from sklearn.metrics import precision_recall_curve\n",
        "from sklearn.metrics import average_precision_score"
      ]
    },
    {
      "cell_type": "code",
      "execution_count": null,
      "metadata": {
        "id": "SUwlLcz4fb0m"
      },
      "outputs": [],
      "source": [
        "from sklearn.model_selection import cross_val_score"
      ]
    },
    {
      "cell_type": "code",
      "execution_count": null,
      "metadata": {
        "id": "zoEO3LZH2R3b"
      },
      "outputs": [],
      "source": [
        "from sklearn.linear_model import LinearRegression, LogisticRegression\n",
        "from sklearn.model_selection import train_test_split, GridSearchCV\n",
        "from sklearn.tree import DecisionTreeClassifier\n",
        "from sklearn.metrics import r2_score, classification_report, confusion_matrix, accuracy_score, roc_auc_score, roc_curve, precision_recall_curve, average_precision_score\n",
        "from sklearn.preprocessing import MinMaxScaler\n",
        "from sklearn.metrics import confusion_matrix, ConfusionMatrixDisplay\n",
        "import sklearn.metrics as metrics\n",
        "from sklearn.metrics import precision_recall_curve\n",
        "from sklearn.metrics import average_precision_score\n",
        "from sklearn import tree\n",
        "from sklearn.metrics import f1_score, average_precision_score, precision_score, recall_score\n",
        "from sklearn.tree import DecisionTreeClassifier\n",
        "from sklearn.metrics import roc_curve, auc"
      ]
    },
    {
      "cell_type": "code",
      "execution_count": null,
      "metadata": {
        "colab": {
          "base_uri": "https://localhost:8080/",
          "height": 206
        },
        "id": "3KMjXZlWnKMp",
        "outputId": "86715800-99e5-45b5-dacf-4a007053d44f"
      },
      "outputs": [
        {
          "output_type": "execute_result",
          "data": {
            "text/plain": [
              "   step      type    amount     nameOrig  oldbalanceOrg  newbalanceOrig  \\\n",
              "0     1   PAYMENT   9839.64  C1231006815       170136.0       160296.36   \n",
              "1     1   PAYMENT   1864.28  C1666544295        21249.0        19384.72   \n",
              "2     1  TRANSFER    181.00  C1305486145          181.0            0.00   \n",
              "3     1  CASH_OUT    181.00   C840083671          181.0            0.00   \n",
              "4     1   PAYMENT  11668.14  C2048537720        41554.0        29885.86   \n",
              "\n",
              "      nameDest  oldbalanceDest  newbalanceDest  isFraud  isFlaggedFraud  \n",
              "0  M1979787155             0.0             0.0        0               0  \n",
              "1  M2044282225             0.0             0.0        0               0  \n",
              "2   C553264065             0.0             0.0        1               0  \n",
              "3    C38997010         21182.0             0.0        1               0  \n",
              "4  M1230701703             0.0             0.0        0               0  "
            ],
            "text/html": [
              "\n",
              "  <div id=\"df-30c4a5db-1b10-4471-baba-10987252fb07\">\n",
              "    <div class=\"colab-df-container\">\n",
              "      <div>\n",
              "<style scoped>\n",
              "    .dataframe tbody tr th:only-of-type {\n",
              "        vertical-align: middle;\n",
              "    }\n",
              "\n",
              "    .dataframe tbody tr th {\n",
              "        vertical-align: top;\n",
              "    }\n",
              "\n",
              "    .dataframe thead th {\n",
              "        text-align: right;\n",
              "    }\n",
              "</style>\n",
              "<table border=\"1\" class=\"dataframe\">\n",
              "  <thead>\n",
              "    <tr style=\"text-align: right;\">\n",
              "      <th></th>\n",
              "      <th>step</th>\n",
              "      <th>type</th>\n",
              "      <th>amount</th>\n",
              "      <th>nameOrig</th>\n",
              "      <th>oldbalanceOrg</th>\n",
              "      <th>newbalanceOrig</th>\n",
              "      <th>nameDest</th>\n",
              "      <th>oldbalanceDest</th>\n",
              "      <th>newbalanceDest</th>\n",
              "      <th>isFraud</th>\n",
              "      <th>isFlaggedFraud</th>\n",
              "    </tr>\n",
              "  </thead>\n",
              "  <tbody>\n",
              "    <tr>\n",
              "      <th>0</th>\n",
              "      <td>1</td>\n",
              "      <td>PAYMENT</td>\n",
              "      <td>9839.64</td>\n",
              "      <td>C1231006815</td>\n",
              "      <td>170136.0</td>\n",
              "      <td>160296.36</td>\n",
              "      <td>M1979787155</td>\n",
              "      <td>0.0</td>\n",
              "      <td>0.0</td>\n",
              "      <td>0</td>\n",
              "      <td>0</td>\n",
              "    </tr>\n",
              "    <tr>\n",
              "      <th>1</th>\n",
              "      <td>1</td>\n",
              "      <td>PAYMENT</td>\n",
              "      <td>1864.28</td>\n",
              "      <td>C1666544295</td>\n",
              "      <td>21249.0</td>\n",
              "      <td>19384.72</td>\n",
              "      <td>M2044282225</td>\n",
              "      <td>0.0</td>\n",
              "      <td>0.0</td>\n",
              "      <td>0</td>\n",
              "      <td>0</td>\n",
              "    </tr>\n",
              "    <tr>\n",
              "      <th>2</th>\n",
              "      <td>1</td>\n",
              "      <td>TRANSFER</td>\n",
              "      <td>181.00</td>\n",
              "      <td>C1305486145</td>\n",
              "      <td>181.0</td>\n",
              "      <td>0.00</td>\n",
              "      <td>C553264065</td>\n",
              "      <td>0.0</td>\n",
              "      <td>0.0</td>\n",
              "      <td>1</td>\n",
              "      <td>0</td>\n",
              "    </tr>\n",
              "    <tr>\n",
              "      <th>3</th>\n",
              "      <td>1</td>\n",
              "      <td>CASH_OUT</td>\n",
              "      <td>181.00</td>\n",
              "      <td>C840083671</td>\n",
              "      <td>181.0</td>\n",
              "      <td>0.00</td>\n",
              "      <td>C38997010</td>\n",
              "      <td>21182.0</td>\n",
              "      <td>0.0</td>\n",
              "      <td>1</td>\n",
              "      <td>0</td>\n",
              "    </tr>\n",
              "    <tr>\n",
              "      <th>4</th>\n",
              "      <td>1</td>\n",
              "      <td>PAYMENT</td>\n",
              "      <td>11668.14</td>\n",
              "      <td>C2048537720</td>\n",
              "      <td>41554.0</td>\n",
              "      <td>29885.86</td>\n",
              "      <td>M1230701703</td>\n",
              "      <td>0.0</td>\n",
              "      <td>0.0</td>\n",
              "      <td>0</td>\n",
              "      <td>0</td>\n",
              "    </tr>\n",
              "  </tbody>\n",
              "</table>\n",
              "</div>\n",
              "      <button class=\"colab-df-convert\" onclick=\"convertToInteractive('df-30c4a5db-1b10-4471-baba-10987252fb07')\"\n",
              "              title=\"Convert this dataframe to an interactive table.\"\n",
              "              style=\"display:none;\">\n",
              "        \n",
              "  <svg xmlns=\"http://www.w3.org/2000/svg\" height=\"24px\"viewBox=\"0 0 24 24\"\n",
              "       width=\"24px\">\n",
              "    <path d=\"M0 0h24v24H0V0z\" fill=\"none\"/>\n",
              "    <path d=\"M18.56 5.44l.94 2.06.94-2.06 2.06-.94-2.06-.94-.94-2.06-.94 2.06-2.06.94zm-11 1L8.5 8.5l.94-2.06 2.06-.94-2.06-.94L8.5 2.5l-.94 2.06-2.06.94zm10 10l.94 2.06.94-2.06 2.06-.94-2.06-.94-.94-2.06-.94 2.06-2.06.94z\"/><path d=\"M17.41 7.96l-1.37-1.37c-.4-.4-.92-.59-1.43-.59-.52 0-1.04.2-1.43.59L10.3 9.45l-7.72 7.72c-.78.78-.78 2.05 0 2.83L4 21.41c.39.39.9.59 1.41.59.51 0 1.02-.2 1.41-.59l7.78-7.78 2.81-2.81c.8-.78.8-2.07 0-2.86zM5.41 20L4 18.59l7.72-7.72 1.47 1.35L5.41 20z\"/>\n",
              "  </svg>\n",
              "      </button>\n",
              "      \n",
              "  <style>\n",
              "    .colab-df-container {\n",
              "      display:flex;\n",
              "      flex-wrap:wrap;\n",
              "      gap: 12px;\n",
              "    }\n",
              "\n",
              "    .colab-df-convert {\n",
              "      background-color: #E8F0FE;\n",
              "      border: none;\n",
              "      border-radius: 50%;\n",
              "      cursor: pointer;\n",
              "      display: none;\n",
              "      fill: #1967D2;\n",
              "      height: 32px;\n",
              "      padding: 0 0 0 0;\n",
              "      width: 32px;\n",
              "    }\n",
              "\n",
              "    .colab-df-convert:hover {\n",
              "      background-color: #E2EBFA;\n",
              "      box-shadow: 0px 1px 2px rgba(60, 64, 67, 0.3), 0px 1px 3px 1px rgba(60, 64, 67, 0.15);\n",
              "      fill: #174EA6;\n",
              "    }\n",
              "\n",
              "    [theme=dark] .colab-df-convert {\n",
              "      background-color: #3B4455;\n",
              "      fill: #D2E3FC;\n",
              "    }\n",
              "\n",
              "    [theme=dark] .colab-df-convert:hover {\n",
              "      background-color: #434B5C;\n",
              "      box-shadow: 0px 1px 3px 1px rgba(0, 0, 0, 0.15);\n",
              "      filter: drop-shadow(0px 1px 2px rgba(0, 0, 0, 0.3));\n",
              "      fill: #FFFFFF;\n",
              "    }\n",
              "  </style>\n",
              "\n",
              "      <script>\n",
              "        const buttonEl =\n",
              "          document.querySelector('#df-30c4a5db-1b10-4471-baba-10987252fb07 button.colab-df-convert');\n",
              "        buttonEl.style.display =\n",
              "          google.colab.kernel.accessAllowed ? 'block' : 'none';\n",
              "\n",
              "        async function convertToInteractive(key) {\n",
              "          const element = document.querySelector('#df-30c4a5db-1b10-4471-baba-10987252fb07');\n",
              "          const dataTable =\n",
              "            await google.colab.kernel.invokeFunction('convertToInteractive',\n",
              "                                                     [key], {});\n",
              "          if (!dataTable) return;\n",
              "\n",
              "          const docLinkHtml = 'Like what you see? Visit the ' +\n",
              "            '<a target=\"_blank\" href=https://colab.research.google.com/notebooks/data_table.ipynb>data table notebook</a>'\n",
              "            + ' to learn more about interactive tables.';\n",
              "          element.innerHTML = '';\n",
              "          dataTable['output_type'] = 'display_data';\n",
              "          await google.colab.output.renderOutput(dataTable, element);\n",
              "          const docLink = document.createElement('div');\n",
              "          docLink.innerHTML = docLinkHtml;\n",
              "          element.appendChild(docLink);\n",
              "        }\n",
              "      </script>\n",
              "    </div>\n",
              "  </div>\n",
              "  "
            ]
          },
          "metadata": {},
          "execution_count": 17
        }
      ],
      "source": [
        "#Load the dataset and view information about the dataset\n",
        "fraud_data = pd.read_csv(\"fraud.csv\")\n",
        "fraud_data.head()"
      ]
    },
    {
      "cell_type": "code",
      "execution_count": null,
      "metadata": {
        "colab": {
          "base_uri": "https://localhost:8080/"
        },
        "id": "7_2EKxhZP2hu",
        "outputId": "77de0661-ab6a-4f4e-bbf0-d2411224654b"
      },
      "outputs": [
        {
          "output_type": "stream",
          "name": "stdout",
          "text": [
            "<class 'pandas.core.frame.DataFrame'>\n",
            "RangeIndex: 6362620 entries, 0 to 6362619\n",
            "Data columns (total 11 columns):\n",
            " #   Column          Dtype  \n",
            "---  ------          -----  \n",
            " 0   step            int64  \n",
            " 1   type            object \n",
            " 2   amount          float64\n",
            " 3   nameOrig        object \n",
            " 4   oldbalanceOrg   float64\n",
            " 5   newbalanceOrig  float64\n",
            " 6   nameDest        object \n",
            " 7   oldbalanceDest  float64\n",
            " 8   newbalanceDest  float64\n",
            " 9   isFraud         int64  \n",
            " 10  isFlaggedFraud  int64  \n",
            "dtypes: float64(5), int64(3), object(3)\n",
            "memory usage: 534.0+ MB\n"
          ]
        }
      ],
      "source": [
        "#Getting more information on the dataset\n",
        "fraud_data.info()"
      ]
    },
    {
      "cell_type": "code",
      "execution_count": null,
      "metadata": {
        "colab": {
          "base_uri": "https://localhost:8080/",
          "height": 300
        },
        "id": "U90oiMBaaZNl",
        "outputId": "84d82d1c-2401-4dfd-f541-0e4f556620c3"
      },
      "outputs": [
        {
          "output_type": "execute_result",
          "data": {
            "text/plain": [
              "               step        amount  oldbalanceOrg  newbalanceOrig  \\\n",
              "count  6.362620e+06  6.362620e+06   6.362620e+06    6.362620e+06   \n",
              "mean   2.433972e+02  1.798619e+05   8.338831e+05    8.551137e+05   \n",
              "std    1.423320e+02  6.038582e+05   2.888243e+06    2.924049e+06   \n",
              "min    1.000000e+00  0.000000e+00   0.000000e+00    0.000000e+00   \n",
              "25%    1.560000e+02  1.338957e+04   0.000000e+00    0.000000e+00   \n",
              "50%    2.390000e+02  7.487194e+04   1.420800e+04    0.000000e+00   \n",
              "75%    3.350000e+02  2.087215e+05   1.073152e+05    1.442584e+05   \n",
              "max    7.430000e+02  9.244552e+07   5.958504e+07    4.958504e+07   \n",
              "\n",
              "       oldbalanceDest  newbalanceDest       isFraud  isFlaggedFraud  \n",
              "count    6.362620e+06    6.362620e+06  6.362620e+06    6.362620e+06  \n",
              "mean     1.100702e+06    1.224996e+06  1.290820e-03    2.514687e-06  \n",
              "std      3.399180e+06    3.674129e+06  3.590480e-02    1.585775e-03  \n",
              "min      0.000000e+00    0.000000e+00  0.000000e+00    0.000000e+00  \n",
              "25%      0.000000e+00    0.000000e+00  0.000000e+00    0.000000e+00  \n",
              "50%      1.327057e+05    2.146614e+05  0.000000e+00    0.000000e+00  \n",
              "75%      9.430367e+05    1.111909e+06  0.000000e+00    0.000000e+00  \n",
              "max      3.560159e+08    3.561793e+08  1.000000e+00    1.000000e+00  "
            ],
            "text/html": [
              "\n",
              "  <div id=\"df-d8ed8c90-72aa-41f9-b8c2-cde63ddaea95\">\n",
              "    <div class=\"colab-df-container\">\n",
              "      <div>\n",
              "<style scoped>\n",
              "    .dataframe tbody tr th:only-of-type {\n",
              "        vertical-align: middle;\n",
              "    }\n",
              "\n",
              "    .dataframe tbody tr th {\n",
              "        vertical-align: top;\n",
              "    }\n",
              "\n",
              "    .dataframe thead th {\n",
              "        text-align: right;\n",
              "    }\n",
              "</style>\n",
              "<table border=\"1\" class=\"dataframe\">\n",
              "  <thead>\n",
              "    <tr style=\"text-align: right;\">\n",
              "      <th></th>\n",
              "      <th>step</th>\n",
              "      <th>amount</th>\n",
              "      <th>oldbalanceOrg</th>\n",
              "      <th>newbalanceOrig</th>\n",
              "      <th>oldbalanceDest</th>\n",
              "      <th>newbalanceDest</th>\n",
              "      <th>isFraud</th>\n",
              "      <th>isFlaggedFraud</th>\n",
              "    </tr>\n",
              "  </thead>\n",
              "  <tbody>\n",
              "    <tr>\n",
              "      <th>count</th>\n",
              "      <td>6.362620e+06</td>\n",
              "      <td>6.362620e+06</td>\n",
              "      <td>6.362620e+06</td>\n",
              "      <td>6.362620e+06</td>\n",
              "      <td>6.362620e+06</td>\n",
              "      <td>6.362620e+06</td>\n",
              "      <td>6.362620e+06</td>\n",
              "      <td>6.362620e+06</td>\n",
              "    </tr>\n",
              "    <tr>\n",
              "      <th>mean</th>\n",
              "      <td>2.433972e+02</td>\n",
              "      <td>1.798619e+05</td>\n",
              "      <td>8.338831e+05</td>\n",
              "      <td>8.551137e+05</td>\n",
              "      <td>1.100702e+06</td>\n",
              "      <td>1.224996e+06</td>\n",
              "      <td>1.290820e-03</td>\n",
              "      <td>2.514687e-06</td>\n",
              "    </tr>\n",
              "    <tr>\n",
              "      <th>std</th>\n",
              "      <td>1.423320e+02</td>\n",
              "      <td>6.038582e+05</td>\n",
              "      <td>2.888243e+06</td>\n",
              "      <td>2.924049e+06</td>\n",
              "      <td>3.399180e+06</td>\n",
              "      <td>3.674129e+06</td>\n",
              "      <td>3.590480e-02</td>\n",
              "      <td>1.585775e-03</td>\n",
              "    </tr>\n",
              "    <tr>\n",
              "      <th>min</th>\n",
              "      <td>1.000000e+00</td>\n",
              "      <td>0.000000e+00</td>\n",
              "      <td>0.000000e+00</td>\n",
              "      <td>0.000000e+00</td>\n",
              "      <td>0.000000e+00</td>\n",
              "      <td>0.000000e+00</td>\n",
              "      <td>0.000000e+00</td>\n",
              "      <td>0.000000e+00</td>\n",
              "    </tr>\n",
              "    <tr>\n",
              "      <th>25%</th>\n",
              "      <td>1.560000e+02</td>\n",
              "      <td>1.338957e+04</td>\n",
              "      <td>0.000000e+00</td>\n",
              "      <td>0.000000e+00</td>\n",
              "      <td>0.000000e+00</td>\n",
              "      <td>0.000000e+00</td>\n",
              "      <td>0.000000e+00</td>\n",
              "      <td>0.000000e+00</td>\n",
              "    </tr>\n",
              "    <tr>\n",
              "      <th>50%</th>\n",
              "      <td>2.390000e+02</td>\n",
              "      <td>7.487194e+04</td>\n",
              "      <td>1.420800e+04</td>\n",
              "      <td>0.000000e+00</td>\n",
              "      <td>1.327057e+05</td>\n",
              "      <td>2.146614e+05</td>\n",
              "      <td>0.000000e+00</td>\n",
              "      <td>0.000000e+00</td>\n",
              "    </tr>\n",
              "    <tr>\n",
              "      <th>75%</th>\n",
              "      <td>3.350000e+02</td>\n",
              "      <td>2.087215e+05</td>\n",
              "      <td>1.073152e+05</td>\n",
              "      <td>1.442584e+05</td>\n",
              "      <td>9.430367e+05</td>\n",
              "      <td>1.111909e+06</td>\n",
              "      <td>0.000000e+00</td>\n",
              "      <td>0.000000e+00</td>\n",
              "    </tr>\n",
              "    <tr>\n",
              "      <th>max</th>\n",
              "      <td>7.430000e+02</td>\n",
              "      <td>9.244552e+07</td>\n",
              "      <td>5.958504e+07</td>\n",
              "      <td>4.958504e+07</td>\n",
              "      <td>3.560159e+08</td>\n",
              "      <td>3.561793e+08</td>\n",
              "      <td>1.000000e+00</td>\n",
              "      <td>1.000000e+00</td>\n",
              "    </tr>\n",
              "  </tbody>\n",
              "</table>\n",
              "</div>\n",
              "      <button class=\"colab-df-convert\" onclick=\"convertToInteractive('df-d8ed8c90-72aa-41f9-b8c2-cde63ddaea95')\"\n",
              "              title=\"Convert this dataframe to an interactive table.\"\n",
              "              style=\"display:none;\">\n",
              "        \n",
              "  <svg xmlns=\"http://www.w3.org/2000/svg\" height=\"24px\"viewBox=\"0 0 24 24\"\n",
              "       width=\"24px\">\n",
              "    <path d=\"M0 0h24v24H0V0z\" fill=\"none\"/>\n",
              "    <path d=\"M18.56 5.44l.94 2.06.94-2.06 2.06-.94-2.06-.94-.94-2.06-.94 2.06-2.06.94zm-11 1L8.5 8.5l.94-2.06 2.06-.94-2.06-.94L8.5 2.5l-.94 2.06-2.06.94zm10 10l.94 2.06.94-2.06 2.06-.94-2.06-.94-.94-2.06-.94 2.06-2.06.94z\"/><path d=\"M17.41 7.96l-1.37-1.37c-.4-.4-.92-.59-1.43-.59-.52 0-1.04.2-1.43.59L10.3 9.45l-7.72 7.72c-.78.78-.78 2.05 0 2.83L4 21.41c.39.39.9.59 1.41.59.51 0 1.02-.2 1.41-.59l7.78-7.78 2.81-2.81c.8-.78.8-2.07 0-2.86zM5.41 20L4 18.59l7.72-7.72 1.47 1.35L5.41 20z\"/>\n",
              "  </svg>\n",
              "      </button>\n",
              "      \n",
              "  <style>\n",
              "    .colab-df-container {\n",
              "      display:flex;\n",
              "      flex-wrap:wrap;\n",
              "      gap: 12px;\n",
              "    }\n",
              "\n",
              "    .colab-df-convert {\n",
              "      background-color: #E8F0FE;\n",
              "      border: none;\n",
              "      border-radius: 50%;\n",
              "      cursor: pointer;\n",
              "      display: none;\n",
              "      fill: #1967D2;\n",
              "      height: 32px;\n",
              "      padding: 0 0 0 0;\n",
              "      width: 32px;\n",
              "    }\n",
              "\n",
              "    .colab-df-convert:hover {\n",
              "      background-color: #E2EBFA;\n",
              "      box-shadow: 0px 1px 2px rgba(60, 64, 67, 0.3), 0px 1px 3px 1px rgba(60, 64, 67, 0.15);\n",
              "      fill: #174EA6;\n",
              "    }\n",
              "\n",
              "    [theme=dark] .colab-df-convert {\n",
              "      background-color: #3B4455;\n",
              "      fill: #D2E3FC;\n",
              "    }\n",
              "\n",
              "    [theme=dark] .colab-df-convert:hover {\n",
              "      background-color: #434B5C;\n",
              "      box-shadow: 0px 1px 3px 1px rgba(0, 0, 0, 0.15);\n",
              "      filter: drop-shadow(0px 1px 2px rgba(0, 0, 0, 0.3));\n",
              "      fill: #FFFFFF;\n",
              "    }\n",
              "  </style>\n",
              "\n",
              "      <script>\n",
              "        const buttonEl =\n",
              "          document.querySelector('#df-d8ed8c90-72aa-41f9-b8c2-cde63ddaea95 button.colab-df-convert');\n",
              "        buttonEl.style.display =\n",
              "          google.colab.kernel.accessAllowed ? 'block' : 'none';\n",
              "\n",
              "        async function convertToInteractive(key) {\n",
              "          const element = document.querySelector('#df-d8ed8c90-72aa-41f9-b8c2-cde63ddaea95');\n",
              "          const dataTable =\n",
              "            await google.colab.kernel.invokeFunction('convertToInteractive',\n",
              "                                                     [key], {});\n",
              "          if (!dataTable) return;\n",
              "\n",
              "          const docLinkHtml = 'Like what you see? Visit the ' +\n",
              "            '<a target=\"_blank\" href=https://colab.research.google.com/notebooks/data_table.ipynb>data table notebook</a>'\n",
              "            + ' to learn more about interactive tables.';\n",
              "          element.innerHTML = '';\n",
              "          dataTable['output_type'] = 'display_data';\n",
              "          await google.colab.output.renderOutput(dataTable, element);\n",
              "          const docLink = document.createElement('div');\n",
              "          docLink.innerHTML = docLinkHtml;\n",
              "          element.appendChild(docLink);\n",
              "        }\n",
              "      </script>\n",
              "    </div>\n",
              "  </div>\n",
              "  "
            ]
          },
          "metadata": {},
          "execution_count": 158
        }
      ],
      "source": [
        "#statistical summary of the dataset\n",
        "fraud_data.describe()"
      ]
    },
    {
      "cell_type": "markdown",
      "metadata": {
        "id": "3atxeO5n__6N"
      },
      "source": [
        "**Data Cleaning**"
      ]
    },
    {
      "cell_type": "markdown",
      "metadata": {
        "id": "l4MTWiC3AzsE"
      },
      "source": [
        "***Drop Duplicates***"
      ]
    },
    {
      "cell_type": "code",
      "execution_count": null,
      "metadata": {
        "colab": {
          "base_uri": "https://localhost:8080/"
        },
        "id": "wENc59lY_-SN",
        "outputId": "0bfaf08f-1d0b-4216-854d-12e1a55889b3"
      },
      "outputs": [
        {
          "output_type": "execute_result",
          "data": {
            "text/plain": [
              "(6362620, 11)"
            ]
          },
          "metadata": {},
          "execution_count": 159
        }
      ],
      "source": [
        "fraud_data.shape"
      ]
    },
    {
      "cell_type": "code",
      "execution_count": null,
      "metadata": {
        "id": "r6nROoVPAJ17"
      },
      "outputs": [],
      "source": [
        "fraud_data = fraud_data.drop_duplicates()"
      ]
    },
    {
      "cell_type": "code",
      "execution_count": null,
      "metadata": {
        "colab": {
          "base_uri": "https://localhost:8080/"
        },
        "id": "O7GNWijkAOz0",
        "outputId": "ba979c58-c314-49eb-a665-220e580ab5d9"
      },
      "outputs": [
        {
          "output_type": "execute_result",
          "data": {
            "text/plain": [
              "(6362620, 11)"
            ]
          },
          "metadata": {},
          "execution_count": 161
        }
      ],
      "source": [
        "fraud_data.shape"
      ]
    },
    {
      "cell_type": "markdown",
      "metadata": {
        "id": "9LSJY5uyAkbl"
      },
      "source": [
        "The shape of the dataset remainded the same after passing the drop_duplicates function. This shows that there are no duplicates in the dataset"
      ]
    },
    {
      "cell_type": "markdown",
      "metadata": {
        "id": "vLJwY2k9A8mG"
      },
      "source": [
        "***Check null values***"
      ]
    },
    {
      "cell_type": "code",
      "execution_count": null,
      "metadata": {
        "colab": {
          "base_uri": "https://localhost:8080/"
        },
        "id": "lNDEZ16NBIWC",
        "outputId": "f9c55b77-fc65-489c-88b9-79f0517f51d4"
      },
      "outputs": [
        {
          "output_type": "execute_result",
          "data": {
            "text/plain": [
              "step              0\n",
              "type              0\n",
              "amount            0\n",
              "nameOrig          0\n",
              "oldbalanceOrg     0\n",
              "newbalanceOrig    0\n",
              "nameDest          0\n",
              "oldbalanceDest    0\n",
              "newbalanceDest    0\n",
              "isFraud           0\n",
              "isFlaggedFraud    0\n",
              "dtype: int64"
            ]
          },
          "metadata": {},
          "execution_count": 162
        }
      ],
      "source": [
        "fraud_data.isnull().sum()"
      ]
    },
    {
      "cell_type": "code",
      "execution_count": null,
      "metadata": {
        "colab": {
          "base_uri": "https://localhost:8080/"
        },
        "id": "lPZDRHiTBVnk",
        "outputId": "4cdd1976-4fd4-4eae-f077-bad57fd97055"
      },
      "outputs": [
        {
          "output_type": "execute_result",
          "data": {
            "text/plain": [
              "False"
            ]
          },
          "metadata": {},
          "execution_count": 163
        }
      ],
      "source": [
        "#Before we begin our data analysis, we will check to confirm if there are any missing values from the dataset\n",
        "fraud_data.isnull().values.any()"
      ]
    },
    {
      "cell_type": "markdown",
      "metadata": {
        "id": "GIEzxsSaBlj8"
      },
      "source": [
        "There are no NULL values in the dataset"
      ]
    },
    {
      "cell_type": "markdown",
      "metadata": {
        "id": "KcHiSA0QDeRX"
      },
      "source": [
        "#**Data Visualisation**"
      ]
    },
    {
      "cell_type": "code",
      "execution_count": null,
      "metadata": {
        "colab": {
          "base_uri": "https://localhost:8080/",
          "height": 296
        },
        "id": "fWKPAu39XFOt",
        "outputId": "119c1c8c-e72d-4ab6-df01-d925b2fc24f1"
      },
      "outputs": [
        {
          "output_type": "display_data",
          "data": {
            "text/plain": [
              "<Figure size 432x288 with 1 Axes>"
            ],
            "image/png": "[encoded data removed]"
          },
          "metadata": {
            "needs_background": "light"
          }
        }
      ],
      "source": [
        "# Plot a bar plot of the type of transactions\n",
        "sns.countplot(x='type', data=fraud_data)\n",
        "plt.title(\"Transaction Types\")\n",
        "plt.xlabel(\"Type\")\n",
        "plt.ylabel(\"Count\")\n",
        "plt.show()"
      ]
    },
    {
      "cell_type": "code",
      "execution_count": null,
      "metadata": {
        "colab": {
          "base_uri": "https://localhost:8080/",
          "height": 681
        },
        "id": "hpYXyhaL_UIU",
        "outputId": "eb2a073b-392d-4ede-c6b8-8d2a9a4a255e"
      },
      "outputs": [
        {
          "output_type": "display_data",
          "data": {
            "text/plain": [
              "<Figure size 864x720 with 2 Axes>"
            ],
            "image/png": "[encoded data removed]"
          },
          "metadata": {
            "needs_background": "light"
          }
        }
      ],
      "source": [
        "# Plot a heatmap of the correlations between features\n",
        "corr = fraud_data.corr()\n",
        "plt.figure(figsize =(12,10))\n",
        "sns.heatmap(corr, annot=True)\n",
        "plt.title(\"Correlation Matrix\")\n",
        "plt.show()"
      ]
    },
    {
      "cell_type": "code",
      "execution_count": null,
      "metadata": {
        "colab": {
          "base_uri": "https://localhost:8080/",
          "height": 295
        },
        "id": "wsi0Q6kM_Pgt",
        "outputId": "e0addf55-6ad1-497d-e70e-22a41e08e10f"
      },
      "outputs": [
        {
          "output_type": "display_data",
          "data": {
            "text/plain": [
              "<Figure size 432x288 with 1 Axes>"
            ],
            "image/png": "[encoded data removed]"
          },
          "metadata": {
            "needs_background": "light"
          }
        }
      ],
      "source": [
        "# Plot a bar plot of the fraud transactions\n",
        "sns.countplot(x='isFraud', data=fraud_data)\n",
        "plt.title(\"Fraud Transactions\")\n",
        "plt.xlabel(\"Fraud\")\n",
        "plt.ylabel(\"Count\")\n",
        "plt.show()"
      ]
    },
    {
      "cell_type": "markdown",
      "metadata": {
        "id": "t3W4UEyNFW27"
      },
      "source": [
        "In the outcome, 1 represents fraud while 0 represents not-fraud\n",
        "\n",
        "The data visualization shows us that our plot is highly imbalanced."
      ]
    },
    {
      "cell_type": "markdown",
      "metadata": {
        "id": "LqI0EAf8OupC"
      },
      "source": [
        "# **Data Cleaning**\n"
      ]
    },
    {
      "cell_type": "code",
      "execution_count": null,
      "metadata": {
        "colab": {
          "base_uri": "https://localhost:8080/"
        },
        "id": "Y0gvh9JRo4Tl",
        "outputId": "36b239ce-ba2c-49d0-92a0-5c83c6ee49b0"
      },
      "outputs": [
        {
          "output_type": "execute_result",
          "data": {
            "text/plain": [
              "0    6354407\n",
              "1       8213\n",
              "Name: isFraud, dtype: int64"
            ]
          },
          "metadata": {},
          "execution_count": 20
        }
      ],
      "source": [
        "#Next we confirm the number of fraudulent and non-fradulent transactions in the dataset\n",
        "fraud_data['isFraud'].value_counts()"
      ]
    },
    {
      "cell_type": "markdown",
      "metadata": {
        "id": "S3quXiDIBqaq"
      },
      "source": [
        "**Check the transaction types that are tagged as fraud**"
      ]
    },
    {
      "cell_type": "code",
      "execution_count": null,
      "metadata": {
        "colab": {
          "base_uri": "https://localhost:8080/"
        },
        "id": "AEFWt1pNCnq1",
        "outputId": "15eb8849-e546-48f7-c288-bbf895381a21"
      },
      "outputs": [
        {
          "output_type": "stream",
          "name": "stdout",
          "text": [
            "\n",
            " The types of fraudulent transactions are ['TRANSFER', 'CASH_OUT']\n"
          ]
        }
      ],
      "source": [
        "print('\\n The types of fraudulent transactions are {}'.format(\\\n",
        "list(fraud_data.loc[fraud_data.isFraud == 1].type.drop_duplicates().values)))"
      ]
    },
    {
      "cell_type": "markdown",
      "metadata": {
        "id": "Kc_quFe6Sssf"
      },
      "source": [
        "Since only TRANSFER and CASH_OUT transactions were tagged as fraud, we will use only the corresponding data"
      ]
    },
    {
      "cell_type": "code",
      "execution_count": null,
      "metadata": {
        "id": "aqskf3qjYDmV"
      },
      "outputs": [],
      "source": [
        "# Preprocessing the data\n",
        "# Specify the transaction types to be dropped\n",
        "transaction_types_to_drop = [\"CASH_IN\", \"DEBIT\", \"PAYMENT\"]\n",
        "\n",
        "# Filter the DataFrame to only include transactions that are not of the specified types\n",
        "fraud_filter = fraud_data[~fraud_data[\"type\"].isin(transaction_types_to_drop)].copy()\n"
      ]
    },
    {
      "cell_type": "markdown",
      "source": [
        "**Check the importance of the isFlaggedFraud Feature**"
      ],
      "metadata": {
        "id": "vRVri3Uiswrj"
      }
    },
    {
      "cell_type": "code",
      "execution_count": null,
      "metadata": {
        "colab": {
          "base_uri": "https://localhost:8080/"
        },
        "id": "5otgYYBDiWq2",
        "outputId": "6d025dac-ff5e-4afd-91b4-c5f16651ffcb"
      },
      "outputs": [
        {
          "output_type": "stream",
          "name": "stdout",
          "text": [
            "\n",
            "The transaction  types in which isFlaggedFraud is set: ['TRANSFER']\n",
            "\n",
            "The number of transactions in which isFlaggedFraud festure is set: 16\n"
          ]
        }
      ],
      "source": [
        "#isFlaggedFraud feature\n",
        "print('\\nThe transaction  types in which isFlaggedFraud is set: \\\n",
        "{}'.format(list(fraud_data.loc[fraud_data.isFlaggedFraud == 1].type.drop_duplicates())))\n",
        "\n",
        "print('\\nThe number of transactions in which isFlaggedFraud festure is set: \\\n",
        "{}'.format(len(fraud_data.loc[fraud_data.isFlaggedFraud == 1])))"
      ]
    },
    {
      "cell_type": "markdown",
      "metadata": {
        "id": "GfCf7cOLlU4G"
      },
      "source": [
        "The instances in which the isFlaggedFraud feature is set is very minimal when considered with the dataset, so we can consider the feature as unimportant and as such we can drop the feature"
      ]
    },
    {
      "cell_type": "code",
      "execution_count": null,
      "metadata": {
        "colab": {
          "base_uri": "https://localhost:8080/"
        },
        "id": "_9IDlBNcdGzL",
        "outputId": "7ef02ed9-b54d-4cd2-eb90-1743542ca0be"
      },
      "outputs": [
        {
          "output_type": "stream",
          "name": "stdout",
          "text": [
            "    type     amount  oldbalanceOrg  newbalanceOrig  oldbalanceDest  \\\n",
            "2      1     181.00          181.0             0.0             0.0   \n",
            "3      0     181.00          181.0             0.0         21182.0   \n",
            "15     0  229133.94        15325.0             0.0          5083.0   \n",
            "19     1  215310.30          705.0             0.0         22425.0   \n",
            "24     1  311685.89        10835.0             0.0          6267.0   \n",
            "\n",
            "    newbalanceDest  isFraud  \n",
            "2             0.00        1  \n",
            "3             0.00        1  \n",
            "15        51513.44        0  \n",
            "19            0.00        0  \n",
            "24      2719172.89        0  \n"
          ]
        }
      ],
      "source": [
        "# Drop unnecessary columns\n",
        "fraud_filter.drop(['step','nameOrig', 'nameDest', 'isFlaggedFraud'], axis=1, inplace=True)\n",
        "\n",
        "# Replace the categorical variables for isFraud with numeric values\n",
        "fraud_filter['type'] = fraud_filter['type'].replace({\"CASH_OUT\": 0, \"TRANSFER\": 1})\n",
        "\n",
        "# Print the filtered DataFrame\n",
        "print(fraud_filter.head())"
      ]
    },
    {
      "cell_type": "code",
      "execution_count": null,
      "metadata": {
        "colab": {
          "base_uri": "https://localhost:8080/"
        },
        "id": "qQZDiUJJVI0y",
        "outputId": "e1ba242a-06d9-4e8c-a22b-3f04a5be1b67"
      },
      "outputs": [
        {
          "output_type": "execute_result",
          "data": {
            "text/plain": [
              "(2770409, 7)"
            ]
          },
          "metadata": {},
          "execution_count": 25
        }
      ],
      "source": [
        "fraud_filter.shape"
      ]
    },
    {
      "cell_type": "markdown",
      "metadata": {
        "id": "uAMn2TMwj3Y6"
      },
      "source": [
        "**Split the dataframe into features and labels**"
      ]
    },
    {
      "cell_type": "code",
      "execution_count": null,
      "metadata": {
        "id": "a5guIU9lj13X"
      },
      "outputs": [],
      "source": [
        "#Where X are the features and y is the target variable\n",
        "X = fraud_filter.drop(columns=[\"isFraud\"])\n",
        "y = fraud_filter['isFraud']\n"
      ]
    },
    {
      "cell_type": "code",
      "execution_count": null,
      "metadata": {
        "colab": {
          "base_uri": "https://localhost:8080/"
        },
        "id": "UJtS6TeStopI",
        "outputId": "82e80db8-814e-4bb9-d7a6-ad7e7aa768ac"
      },
      "outputs": [
        {
          "output_type": "stream",
          "name": "stdout",
          "text": [
            "    type     amount  oldbalanceOrg  newbalanceOrig  oldbalanceDest  \\\n",
            "2      1     181.00          181.0             0.0             0.0   \n",
            "3      0     181.00          181.0             0.0         21182.0   \n",
            "15     0  229133.94        15325.0             0.0          5083.0   \n",
            "19     1  215310.30          705.0             0.0         22425.0   \n",
            "24     1  311685.89        10835.0             0.0          6267.0   \n",
            "\n",
            "    newbalanceDest  \n",
            "2             0.00  \n",
            "3             0.00  \n",
            "15        51513.44  \n",
            "19            0.00  \n",
            "24      2719172.89  \n"
          ]
        }
      ],
      "source": [
        "print(X.head())\n"
      ]
    },
    {
      "cell_type": "code",
      "execution_count": null,
      "metadata": {
        "colab": {
          "base_uri": "https://localhost:8080/"
        },
        "id": "QeMZGgQLEcQW",
        "outputId": "7dad3904-0a3e-49e2-af3b-0ee16e200c4b"
      },
      "outputs": [
        {
          "output_type": "stream",
          "name": "stdout",
          "text": [
            "2     1\n",
            "3     1\n",
            "15    0\n",
            "19    0\n",
            "24    0\n",
            "Name: isFraud, dtype: int64\n"
          ]
        }
      ],
      "source": [
        "print(y.head())"
      ]
    },
    {
      "cell_type": "code",
      "execution_count": null,
      "metadata": {
        "colab": {
          "base_uri": "https://localhost:8080/"
        },
        "id": "FX2H6KJ6YRx8",
        "outputId": "de459b0b-3de2-40eb-aa5c-6b863750f6eb"
      },
      "outputs": [
        {
          "output_type": "execute_result",
          "data": {
            "text/plain": [
              "Counter({1: 8213, 0: 2762196})"
            ]
          },
          "metadata": {},
          "execution_count": 176
        }
      ],
      "source": [
        "#Determine the imbalance ratio\n",
        "Counter(y)"
      ]
    },
    {
      "cell_type": "markdown",
      "metadata": {
        "id": "AOv84W96AFC6"
      },
      "source": [
        "**Transaction amount and account balance checks**"
      ]
    },
    {
      "cell_type": "code",
      "execution_count": null,
      "metadata": {
        "id": "dc6HSTAUKkNQ"
      },
      "outputs": [],
      "source": [
        "# Plot a scatter plot of the oldbalanceDest and newbalanceDest\n",
        "sns.scatterplot(x='oldbalanceDest', y='newbalanceDest', data=fraud_data)\n",
        "plt.title(\"oldbalanceDest vs newbalanceDest\")\n",
        "plt.xlabel(\"oldbalanceDest\")\n",
        "plt.ylabel(\"newbalanceDest\")\n",
        "plt.show()"
      ]
    },
    {
      "cell_type": "code",
      "execution_count": null,
      "metadata": {
        "colab": {
          "base_uri": "https://localhost:8080/"
        },
        "id": "Or5wQS2jwceI",
        "outputId": "37dedbbd-d9a8-4830-dfda-f3df9013ea38"
      },
      "outputs": [
        {
          "output_type": "stream",
          "name": "stdout",
          "text": [
            "The number of transactions with transaction amount of zero is: 16\n"
          ]
        }
      ],
      "source": [
        "# Check instances where transacted amount is 0\n",
        "print('The number of transactions with transaction amount of zero is: ' +\n",
        "str(sum(X['amount'] == 0)))"
      ]
    },
    {
      "cell_type": "code",
      "execution_count": null,
      "metadata": {
        "colab": {
          "base_uri": "https://localhost:8080/"
        },
        "id": "UDbYOGBMxEQV",
        "outputId": "3af38b7c-7623-4eab-914c-1abfa200c86c"
      },
      "outputs": [
        {
          "output_type": "stream",
          "name": "stdout",
          "text": [
            "\n",
            "The fraction of fraudulent transactions where 'oldBalanceDest' & 'newBalanceDest' = 0 when transacted 'amount' is not zero is: 0.4955558261293072\n",
            "\n",
            "The fraction of non-fraudulent transactions where 'oldBalanceDest' & newBalanceDest' = 0 when transacted 'amount' is not zero is: 0.0006176245277308345\n"
          ]
        }
      ],
      "source": [
        "X_isfraud = X.loc[y == 1]\n",
        "X_noFraud = X.loc[y == 0]\n",
        "print('\\nThe fraction of fraudulent transactions where \\'oldBalanceDest\\' & \\\n",
        "\\'newBalanceDest\\' = 0 when transacted \\'amount\\' is not zero is: {}'.\\\n",
        "format(len(X_isfraud.loc[(X_isfraud.oldbalanceDest == 0) & \\\n",
        "(X_isfraud.newbalanceDest == 0) & (X_isfraud.amount)]) / (1.0 * len(X_isfraud))))\n",
        "\n",
        "print('\\nThe fraction of non-fraudulent transactions where \\'oldBalanceDest\\' & \\\n",
        "newBalanceDest\\' = 0 when transacted \\'amount\\' is not zero is: {}'.\\\n",
        "format(len(X_noFraud.loc[(X_noFraud.oldbalanceDest == 0) & \\\n",
        "(X_noFraud.newbalanceDest == 0) & (X_noFraud.amount)]) / (1.0 * len(X_noFraud))))"
      ]
    },
    {
      "cell_type": "markdown",
      "metadata": {
        "id": "epk95NQn7Y17"
      },
      "source": [
        "The account balance being zero is a strong indicator of fraud, so imputing the balance with a statistic or distribution would mask this indicator. Instead, the value of 0 is replaced with -1, which is more useful for an ML algorithm detecting fraud."
      ]
    },
    {
      "cell_type": "code",
      "execution_count": null,
      "metadata": {
        "id": "CvqB9W_g7Wl4"
      },
      "outputs": [],
      "source": [
        "X.loc[(X.oldbalanceDest == 0) & (X.newbalanceDest == 0) & (X.amount != 0), \\\n",
        "      ['oldbalanceDest', 'newbalanceDest']] = - 1"
      ]
    },
    {
      "cell_type": "markdown",
      "metadata": {
        "id": "xNYUMVoY8Qad"
      },
      "source": [
        "The data includes transactions where the originating account's balance was zero before or after a transaction involving a non-zero amount. When compared to genuine transactions, the percentage of fraudulent transactions is substantially lower. The value of 0 is changed to a null value rather than being imputed with a numerical value."
      ]
    },
    {
      "cell_type": "markdown",
      "metadata": {
        "id": "X0vcUcFw8WEe"
      },
      "source": [
        "#**Feature engineering**"
      ]
    },
    {
      "cell_type": "code",
      "execution_count": null,
      "metadata": {
        "id": "q9zBEO_s6wPh"
      },
      "outputs": [],
      "source": [
        "X['errorBalanceOrig'] = X.newbalanceOrig + X.amount - X.oldbalanceOrg\n",
        "X['errorBalanceDest'] = X.oldbalanceDest + X.amount - X.newbalanceDest"
      ]
    },
    {
      "cell_type": "code",
      "execution_count": null,
      "metadata": {
        "colab": {
          "base_uri": "https://localhost:8080/",
          "height": 206
        },
        "id": "j_eMICea7Ci4",
        "outputId": "2f14c60d-d0c5-43cf-944c-21efbcf2ccd6"
      },
      "outputs": [
        {
          "output_type": "execute_result",
          "data": {
            "text/plain": [
              "    type     amount  oldbalanceOrg  newbalanceOrig  oldbalanceDest  \\\n",
              "2      1     181.00          181.0             0.0            -1.0   \n",
              "3      0     181.00          181.0             0.0         21182.0   \n",
              "15     0  229133.94        15325.0             0.0          5083.0   \n",
              "19     1  215310.30          705.0             0.0         22425.0   \n",
              "24     1  311685.89        10835.0             0.0          6267.0   \n",
              "\n",
              "    newbalanceDest  errorBalanceOrig  errorBalanceDest  \n",
              "2            -1.00              0.00             181.0  \n",
              "3             0.00              0.00           21363.0  \n",
              "15        51513.44         213808.94          182703.5  \n",
              "19            0.00         214605.30          237735.3  \n",
              "24      2719172.89         300850.89        -2401220.0  "
            ],
            "text/html": [
              "\n",
              "  <div id=\"df-5ff36e97-68e9-413a-8a78-4c3e58c36cf8\">\n",
              "    <div class=\"colab-df-container\">\n",
              "      <div>\n",
              "<style scoped>\n",
              "    .dataframe tbody tr th:only-of-type {\n",
              "        vertical-align: middle;\n",
              "    }\n",
              "\n",
              "    .dataframe tbody tr th {\n",
              "        vertical-align: top;\n",
              "    }\n",
              "\n",
              "    .dataframe thead th {\n",
              "        text-align: right;\n",
              "    }\n",
              "</style>\n",
              "<table border=\"1\" class=\"dataframe\">\n",
              "  <thead>\n",
              "    <tr style=\"text-align: right;\">\n",
              "      <th></th>\n",
              "      <th>type</th>\n",
              "      <th>amount</th>\n",
              "      <th>oldbalanceOrg</th>\n",
              "      <th>newbalanceOrig</th>\n",
              "      <th>oldbalanceDest</th>\n",
              "      <th>newbalanceDest</th>\n",
              "      <th>errorBalanceOrig</th>\n",
              "      <th>errorBalanceDest</th>\n",
              "    </tr>\n",
              "  </thead>\n",
              "  <tbody>\n",
              "    <tr>\n",
              "      <th>2</th>\n",
              "      <td>1</td>\n",
              "      <td>181.00</td>\n",
              "      <td>181.0</td>\n",
              "      <td>0.0</td>\n",
              "      <td>-1.0</td>\n",
              "      <td>-1.00</td>\n",
              "      <td>0.00</td>\n",
              "      <td>181.0</td>\n",
              "    </tr>\n",
              "    <tr>\n",
              "      <th>3</th>\n",
              "      <td>0</td>\n",
              "      <td>181.00</td>\n",
              "      <td>181.0</td>\n",
              "      <td>0.0</td>\n",
              "      <td>21182.0</td>\n",
              "      <td>0.00</td>\n",
              "      <td>0.00</td>\n",
              "      <td>21363.0</td>\n",
              "    </tr>\n",
              "    <tr>\n",
              "      <th>15</th>\n",
              "      <td>0</td>\n",
              "      <td>229133.94</td>\n",
              "      <td>15325.0</td>\n",
              "      <td>0.0</td>\n",
              "      <td>5083.0</td>\n",
              "      <td>51513.44</td>\n",
              "      <td>213808.94</td>\n",
              "      <td>182703.5</td>\n",
              "    </tr>\n",
              "    <tr>\n",
              "      <th>19</th>\n",
              "      <td>1</td>\n",
              "      <td>215310.30</td>\n",
              "      <td>705.0</td>\n",
              "      <td>0.0</td>\n",
              "      <td>22425.0</td>\n",
              "      <td>0.00</td>\n",
              "      <td>214605.30</td>\n",
              "      <td>237735.3</td>\n",
              "    </tr>\n",
              "    <tr>\n",
              "      <th>24</th>\n",
              "      <td>1</td>\n",
              "      <td>311685.89</td>\n",
              "      <td>10835.0</td>\n",
              "      <td>0.0</td>\n",
              "      <td>6267.0</td>\n",
              "      <td>2719172.89</td>\n",
              "      <td>300850.89</td>\n",
              "      <td>-2401220.0</td>\n",
              "    </tr>\n",
              "  </tbody>\n",
              "</table>\n",
              "</div>\n",
              "      <button class=\"colab-df-convert\" onclick=\"convertToInteractive('df-5ff36e97-68e9-413a-8a78-4c3e58c36cf8')\"\n",
              "              title=\"Convert this dataframe to an interactive table.\"\n",
              "              style=\"display:none;\">\n",
              "        \n",
              "  <svg xmlns=\"http://www.w3.org/2000/svg\" height=\"24px\"viewBox=\"0 0 24 24\"\n",
              "       width=\"24px\">\n",
              "    <path d=\"M0 0h24v24H0V0z\" fill=\"none\"/>\n",
              "    <path d=\"M18.56 5.44l.94 2.06.94-2.06 2.06-.94-2.06-.94-.94-2.06-.94 2.06-2.06.94zm-11 1L8.5 8.5l.94-2.06 2.06-.94-2.06-.94L8.5 2.5l-.94 2.06-2.06.94zm10 10l.94 2.06.94-2.06 2.06-.94-2.06-.94-.94-2.06-.94 2.06-2.06.94z\"/><path d=\"M17.41 7.96l-1.37-1.37c-.4-.4-.92-.59-1.43-.59-.52 0-1.04.2-1.43.59L10.3 9.45l-7.72 7.72c-.78.78-.78 2.05 0 2.83L4 21.41c.39.39.9.59 1.41.59.51 0 1.02-.2 1.41-.59l7.78-7.78 2.81-2.81c.8-.78.8-2.07 0-2.86zM5.41 20L4 18.59l7.72-7.72 1.47 1.35L5.41 20z\"/>\n",
              "  </svg>\n",
              "      </button>\n",
              "      \n",
              "  <style>\n",
              "    .colab-df-container {\n",
              "      display:flex;\n",
              "      flex-wrap:wrap;\n",
              "      gap: 12px;\n",
              "    }\n",
              "\n",
              "    .colab-df-convert {\n",
              "      background-color: #E8F0FE;\n",
              "      border: none;\n",
              "      border-radius: 50%;\n",
              "      cursor: pointer;\n",
              "      display: none;\n",
              "      fill: #1967D2;\n",
              "      height: 32px;\n",
              "      padding: 0 0 0 0;\n",
              "      width: 32px;\n",
              "    }\n",
              "\n",
              "    .colab-df-convert:hover {\n",
              "      background-color: #E2EBFA;\n",
              "      box-shadow: 0px 1px 2px rgba(60, 64, 67, 0.3), 0px 1px 3px 1px rgba(60, 64, 67, 0.15);\n",
              "      fill: #174EA6;\n",
              "    }\n",
              "\n",
              "    [theme=dark] .colab-df-convert {\n",
              "      background-color: #3B4455;\n",
              "      fill: #D2E3FC;\n",
              "    }\n",
              "\n",
              "    [theme=dark] .colab-df-convert:hover {\n",
              "      background-color: #434B5C;\n",
              "      box-shadow: 0px 1px 3px 1px rgba(0, 0, 0, 0.15);\n",
              "      filter: drop-shadow(0px 1px 2px rgba(0, 0, 0, 0.3));\n",
              "      fill: #FFFFFF;\n",
              "    }\n",
              "  </style>\n",
              "\n",
              "      <script>\n",
              "        const buttonEl =\n",
              "          document.querySelector('#df-5ff36e97-68e9-413a-8a78-4c3e58c36cf8 button.colab-df-convert');\n",
              "        buttonEl.style.display =\n",
              "          google.colab.kernel.accessAllowed ? 'block' : 'none';\n",
              "\n",
              "        async function convertToInteractive(key) {\n",
              "          const element = document.querySelector('#df-5ff36e97-68e9-413a-8a78-4c3e58c36cf8');\n",
              "          const dataTable =\n",
              "            await google.colab.kernel.invokeFunction('convertToInteractive',\n",
              "                                                     [key], {});\n",
              "          if (!dataTable) return;\n",
              "\n",
              "          const docLinkHtml = 'Like what you see? Visit the ' +\n",
              "            '<a target=\"_blank\" href=https://colab.research.google.com/notebooks/data_table.ipynb>data table notebook</a>'\n",
              "            + ' to learn more about interactive tables.';\n",
              "          element.innerHTML = '';\n",
              "          dataTable['output_type'] = 'display_data';\n",
              "          await google.colab.output.renderOutput(dataTable, element);\n",
              "          const docLink = document.createElement('div');\n",
              "          docLink.innerHTML = docLinkHtml;\n",
              "          element.appendChild(docLink);\n",
              "        }\n",
              "      </script>\n",
              "    </div>\n",
              "  </div>\n",
              "  "
            ]
          },
          "metadata": {},
          "execution_count": 181
        }
      ],
      "source": [
        "X.head()"
      ]
    },
    {
      "cell_type": "code",
      "execution_count": null,
      "metadata": {
        "colab": {
          "base_uri": "https://localhost:8080/"
        },
        "id": "zyDnWo1jAB5i",
        "outputId": "140f6ffa-0ab5-4d12-ff7f-0b8416b32a18"
      },
      "outputs": [
        {
          "output_type": "execute_result",
          "data": {
            "text/plain": [
              "2     1\n",
              "3     1\n",
              "15    0\n",
              "19    0\n",
              "24    0\n",
              "Name: isFraud, dtype: int64"
            ]
          },
          "metadata": {},
          "execution_count": 182
        }
      ],
      "source": [
        "y.head()"
      ]
    },
    {
      "cell_type": "markdown",
      "metadata": {
        "id": "3waGl9HtO67O"
      },
      "source": [
        "# **Model Selection**"
      ]
    },
    {
      "cell_type": "code",
      "execution_count": null,
      "metadata": {
        "id": "BdJ-MDpNA5He"
      },
      "outputs": [],
      "source": [
        "scaler = MinMaxScaler()\n",
        "scaler.fit(X)\n",
        "norm_X = scaler.transform(X)"
      ]
    },
    {
      "cell_type": "code",
      "execution_count": null,
      "metadata": {
        "colab": {
          "base_uri": "https://localhost:8080/"
        },
        "id": "eYPr1ve-k1FP",
        "outputId": "9e38733f-2b65-4398-d731-a720ca6ce00e"
      },
      "outputs": [
        {
          "output_type": "execute_result",
          "data": {
            "text/plain": [
              "array([[1.00000000e+00, 1.95790998e-06, 3.03767521e-06, 0.00000000e+00,\n",
              "        0.00000000e+00, 0.00000000e+00],\n",
              "       [0.00000000e+00, 1.95790998e-06, 3.03767521e-06, 0.00000000e+00,\n",
              "        5.94973445e-05, 0.00000000e+00],\n",
              "       [0.00000000e+00, 2.47858358e-03, 2.57195429e-04, 0.00000000e+00,\n",
              "        1.42774526e-05, 1.44627841e-04],\n",
              "       ...,\n",
              "       [0.00000000e+00, 6.82716643e-02, 1.05922716e-01, 0.00000000e+00,\n",
              "        1.92375796e-04, 1.79120417e-02],\n",
              "       [1.00000000e+00, 9.19463216e-03, 1.42653679e-02, 0.00000000e+00,\n",
              "        0.00000000e+00, 0.00000000e+00],\n",
              "       [0.00000000e+00, 9.19463216e-03, 1.42653679e-02, 0.00000000e+00,\n",
              "        1.82859791e-02, 2.06640365e-02]])"
            ]
          },
          "metadata": {},
          "execution_count": 28
        }
      ],
      "source": [
        "norm_X"
      ]
    },
    {
      "cell_type": "markdown",
      "metadata": {
        "id": "FR-I5ZdPYt-T"
      },
      "source": [
        "# Random Under Sampling"
      ]
    },
    {
      "cell_type": "code",
      "execution_count": null,
      "metadata": {
        "id": "sWXhKjxqQpRe"
      },
      "outputs": [],
      "source": [
        "from imblearn.under_sampling import RandomUnderSampler"
      ]
    },
    {
      "cell_type": "code",
      "execution_count": null,
      "metadata": {
        "id": "Gu104E0dY4pE"
      },
      "outputs": [],
      "source": [
        "method = RandomUnderSampler(random_state = 42)"
      ]
    },
    {
      "cell_type": "code",
      "execution_count": null,
      "metadata": {
        "id": "TkqtLnQcjoRy"
      },
      "outputs": [],
      "source": [
        "X_resampled, y_resampled = method.fit_resample(norm_X, y)"
      ]
    },
    {
      "cell_type": "code",
      "execution_count": null,
      "metadata": {
        "id": "HrkmI-rxfPFx"
      },
      "outputs": [],
      "source": [
        "# Split the data into training and testing sets\n",
        "X_train, X_test, y_train, y_test = train_test_split(X_resampled, y_resampled, test_size=0.2, random_state=42)"
      ]
    },
    {
      "cell_type": "code",
      "execution_count": null,
      "metadata": {
        "colab": {
          "base_uri": "https://localhost:8080/"
        },
        "id": "-ySGXSTp_dfQ",
        "outputId": "8e2abab6-340a-4889-f606-64d9f95ebee2"
      },
      "outputs": [
        {
          "output_type": "stream",
          "name": "stdout",
          "text": [
            "(13140, 6) (13140,)\n"
          ]
        }
      ],
      "source": [
        "print(X_train.shape,y_train.shape)"
      ]
    },
    {
      "cell_type": "code",
      "execution_count": null,
      "metadata": {
        "colab": {
          "base_uri": "https://localhost:8080/"
        },
        "id": "cFy9Q_S9LwKB",
        "outputId": "bf98d364-8155-4d20-ac06-76ceca550bda"
      },
      "outputs": [
        {
          "output_type": "stream",
          "name": "stdout",
          "text": [
            "(3286, 6) (3286,)\n"
          ]
        }
      ],
      "source": [
        "print(X_test.shape,y_test.shape)"
      ]
    },
    {
      "cell_type": "code",
      "execution_count": null,
      "metadata": {
        "colab": {
          "base_uri": "https://localhost:8080/"
        },
        "id": "seTPTksjxTvm",
        "outputId": "c9c81e6b-f26f-4c8a-af59-84eb06c2e041"
      },
      "outputs": [
        {
          "output_type": "execute_result",
          "data": {
            "text/plain": [
              "Counter({0: 6564, 1: 6576})"
            ]
          },
          "metadata": {},
          "execution_count": 35
        }
      ],
      "source": [
        "Counter(y_train)"
      ]
    },
    {
      "cell_type": "code",
      "execution_count": null,
      "metadata": {
        "colab": {
          "base_uri": "https://localhost:8080/"
        },
        "id": "sNIAy-TZjuix",
        "outputId": "7959ce36-88f3-416a-9fa1-9fbda3b675bb"
      },
      "outputs": [
        {
          "output_type": "stream",
          "name": "stdout",
          "text": [
            "Original dataset: Counter({0: 2762196, 1: 8213})\n",
            "Resampled dataset: Counter({0: 8213, 1: 8213})\n"
          ]
        }
      ],
      "source": [
        "print('Original dataset:', Counter(y))\n",
        "print('Resampled dataset:', Counter(y_resampled))"
      ]
    },
    {
      "cell_type": "markdown",
      "metadata": {
        "id": "FvIjvaPIUGZT"
      },
      "source": [
        "#**Logistic Regression**"
      ]
    },
    {
      "cell_type": "code",
      "execution_count": null,
      "metadata": {
        "id": "tb9GZ63ITeru"
      },
      "outputs": [],
      "source": [
        "from sklearn.linear_model import LogisticRegression"
      ]
    },
    {
      "cell_type": "code",
      "execution_count": null,
      "metadata": {
        "id": "FGPpP-oFVPYA"
      },
      "outputs": [],
      "source": [
        "from sklearn.metrics import accuracy_score, confusion_matrix, classification_report"
      ]
    },
    {
      "cell_type": "code",
      "execution_count": null,
      "metadata": {
        "colab": {
          "base_uri": "https://localhost:8080/"
        },
        "id": "PyuRXohSTGqM",
        "outputId": "8c9f8a10-7114-453b-c206-607a4370aba0"
      },
      "outputs": [
        {
          "output_type": "execute_result",
          "data": {
            "text/plain": [
              "LogisticRegression(random_state=42)"
            ]
          },
          "metadata": {},
          "execution_count": 39
        }
      ],
      "source": [
        "# Fit a logistic regression model to our data\n",
        "log_model = LogisticRegression(random_state=42)\n",
        "log_model.fit(X_train, y_train)"
      ]
    },
    {
      "cell_type": "code",
      "execution_count": null,
      "metadata": {
        "id": "sPyDua31T1-m"
      },
      "outputs": [],
      "source": [
        "# Obtain model predictions\n",
        "Log_predicted = log_model.predict(X_test)"
      ]
    },
    {
      "cell_type": "code",
      "execution_count": null,
      "metadata": {
        "colab": {
          "base_uri": "https://localhost:8080/"
        },
        "id": "ak8IFh77T958",
        "outputId": "0c8609fd-7cbf-47cb-8cf9-c1b5e0d760f3"
      },
      "outputs": [
        {
          "output_type": "stream",
          "name": "stdout",
          "text": [
            "Logistic Regression Classification report:\n",
            "               precision    recall  f1-score   support\n",
            "\n",
            "           0       0.67      0.80      0.73      1649\n",
            "           1       0.75      0.60      0.67      1637\n",
            "\n",
            "    accuracy                           0.70      3286\n",
            "   macro avg       0.71      0.70      0.70      3286\n",
            "weighted avg       0.71      0.70      0.70      3286\n",
            "\n",
            "Logistic Regression Confusion matrix:\n",
            " [[1323  326]\n",
            " [ 653  984]]\n"
          ]
        }
      ],
      "source": [
        "# Print the classification report and confusion matrix\n",
        "print('Logistic Regression Classification report:\\n', classification_report(y_test, Log_predicted))\n",
        "logconf_mat = confusion_matrix(y_true=y_test, y_pred=Log_predicted)\n",
        "print('Logistic Regression Confusion matrix:\\n', logconf_mat)"
      ]
    },
    {
      "cell_type": "code",
      "execution_count": null,
      "metadata": {
        "colab": {
          "base_uri": "https://localhost:8080/",
          "height": 279
        },
        "id": "Fah1NqQDhCQ9",
        "outputId": "be8fdeb5-dedd-44bf-ed14-ba564d89a14a"
      },
      "outputs": [
        {
          "output_type": "display_data",
          "data": {
            "text/plain": [
              "<Figure size 432x288 with 2 Axes>"
            ],
            "image/png": "[encoded data removed]"
          },
          "metadata": {
            "needs_background": "light"
          }
        }
      ],
      "source": [
        "logconf_mat = confusion_matrix(y_test, Log_predicted, labels=log_model.classes_)\n",
        "disp = ConfusionMatrixDisplay(confusion_matrix=logconf_mat, display_labels=log_model.classes_)\n",
        "disp.plot()\n",
        "plt.show()"
      ]
    },
    {
      "cell_type": "code",
      "execution_count": null,
      "metadata": {
        "colab": {
          "base_uri": "https://localhost:8080/"
        },
        "id": "xvTPsOSbveLx",
        "outputId": "aa2ec7fe-205a-482e-bb2f-755479c8b56d"
      },
      "outputs": [
        {
          "output_type": "stream",
          "name": "stdout",
          "text": [
            "0.8528746805323972\n"
          ]
        }
      ],
      "source": [
        "# Obtain model probabilities\n",
        "probs = log_model.predict_proba(X_test)\n",
        "# Print ROC_AUC score using probabilities\n",
        "print(metrics.roc_auc_score(y_test, probs[:, 1]))"
      ]
    },
    {
      "cell_type": "markdown",
      "metadata": {
        "id": "N5BF6rFOYu_g"
      },
      "source": [
        "#**Decision Tree**"
      ]
    },
    {
      "cell_type": "code",
      "execution_count": null,
      "metadata": {
        "colab": {
          "base_uri": "https://localhost:8080/"
        },
        "id": "vqfLisD3Q9vq",
        "outputId": "df661b9b-0947-424e-8d2e-e2c460ec7413"
      },
      "outputs": [
        {
          "output_type": "stream",
          "name": "stdout",
          "text": [
            "Best max_depth: 8\n"
          ]
        }
      ],
      "source": [
        "# Define the decision tree classifier\n",
        "decision_tree = DecisionTreeClassifier()\n",
        "\n",
        "# Define the range of max_depth values to try\n",
        "params = {'max_depth': [2, 4, 6, 8, 10]}\n",
        "\n",
        "# Perform a grid search with 5-fold cross-validation\n",
        "grid_search = GridSearchCV(decision_tree, param_grid=params, cv=5)\n",
        "grid_search.fit(X_train, y_train)\n",
        "\n",
        "# Print the best value of max_depth\n",
        "print('Best max_depth:', grid_search.best_params_['max_depth'])"
      ]
    },
    {
      "cell_type": "code",
      "execution_count": null,
      "metadata": {
        "id": "xwqtEeR9cIpf",
        "colab": {
          "base_uri": "https://localhost:8080/"
        },
        "outputId": "4b842a45-f147-4f82-82f2-4e895e2c2096"
      },
      "outputs": [
        {
          "output_type": "stream",
          "name": "stdout",
          "text": [
            "Accuracy: 0.9847839318320146\n"
          ]
        }
      ],
      "source": [
        "decision_tree = DecisionTreeClassifier(max_depth=8)\n",
        "decision_tree.fit(X_train, y_train)\n",
        "print(\"Accuracy:\", decision_tree.score(X_test, y_test))"
      ]
    },
    {
      "cell_type": "code",
      "execution_count": null,
      "metadata": {
        "id": "2zr4NgJchk6j"
      },
      "outputs": [],
      "source": [
        "# Predict the labels of the test set\n",
        "dectree_pred = decision_tree.predict(X_test)"
      ]
    },
    {
      "cell_type": "code",
      "execution_count": null,
      "metadata": {
        "id": "tUNCJvsGcn5Z",
        "colab": {
          "base_uri": "https://localhost:8080/"
        },
        "outputId": "bdcf64ce-4940-4310-94de-b8190f671659"
      },
      "outputs": [
        {
          "output_type": "stream",
          "name": "stdout",
          "text": [
            "Decision Tree Classification report:\n",
            "               precision    recall  f1-score   support\n",
            "\n",
            "           0       0.99      0.98      0.98      1649\n",
            "           1       0.98      0.99      0.98      1637\n",
            "\n",
            "    accuracy                           0.98      3286\n",
            "   macro avg       0.98      0.98      0.98      3286\n",
            "weighted avg       0.98      0.98      0.98      3286\n",
            "\n",
            "Decision Tree Confusion matrix:\n",
            " [[1611   38]\n",
            " [  12 1625]]\n"
          ]
        }
      ],
      "source": [
        "# Generate a classification report\n",
        "print('Decision Tree Classification report:\\n',classification_report(y_test, dectree_pred))\n",
        "decconf_mat = confusion_matrix(y_true=y_test, y_pred=dectree_pred)\n",
        "print('Decision Tree Confusion matrix:\\n', decconf_mat)"
      ]
    },
    {
      "cell_type": "code",
      "execution_count": null,
      "metadata": {
        "id": "_n21GUm1g0wT",
        "colab": {
          "base_uri": "https://localhost:8080/",
          "height": 280
        },
        "outputId": "3db733b3-9d93-43af-f3c2-a709bffa947f"
      },
      "outputs": [
        {
          "output_type": "display_data",
          "data": {
            "text/plain": [
              "<Figure size 432x288 with 2 Axes>"
            ],
            "image/png": "[encoded data removed]"
          },
          "metadata": {
            "needs_background": "light"
          }
        }
      ],
      "source": [
        "decconf_mat = confusion_matrix(y_test, dectree_pred, labels=decision_tree.classes_)\n",
        "disp = ConfusionMatrixDisplay(confusion_matrix=decconf_mat, display_labels=decision_tree.classes_)\n",
        "disp.plot()\n",
        "plt.show()"
      ]
    },
    {
      "cell_type": "markdown",
      "metadata": {
        "id": "MKrCMnvDavEF"
      },
      "source": [
        "#**SVM**"
      ]
    },
    {
      "cell_type": "code",
      "execution_count": null,
      "metadata": {
        "id": "VwNi0GEaauK9"
      },
      "outputs": [],
      "source": [
        "from sklearn import svm\n",
        "from sklearn.svm import SVC"
      ]
    },
    {
      "cell_type": "code",
      "execution_count": null,
      "metadata": {
        "id": "XvsDIkFegmqB"
      },
      "outputs": [],
      "source": [
        "svc = SVC(kernel='rbf', C=1, gamma=0.001, random_state=42)"
      ]
    },
    {
      "cell_type": "code",
      "execution_count": null,
      "metadata": {
        "id": "qq7MLbHsisvE",
        "colab": {
          "base_uri": "https://localhost:8080/"
        },
        "outputId": "7300a741-9183-400c-a1fc-c4987d69064b"
      },
      "outputs": [
        {
          "output_type": "execute_result",
          "data": {
            "text/plain": [
              "SVC(C=1, gamma=0.001, random_state=42)"
            ]
          },
          "metadata": {},
          "execution_count": 49
        }
      ],
      "source": [
        "svc.fit(X_train, y_train)"
      ]
    },
    {
      "cell_type": "code",
      "execution_count": null,
      "metadata": {
        "id": "T7Lw-OVETSJY"
      },
      "outputs": [],
      "source": [
        "svc_pred = svc.predict(X_test)"
      ]
    },
    {
      "cell_type": "code",
      "execution_count": null,
      "metadata": {
        "id": "xpLeZ5XXdeXp",
        "colab": {
          "base_uri": "https://localhost:8080/"
        },
        "outputId": "3e1dc637-d00e-43a1-e33e-fd8a5c195887"
      },
      "outputs": [
        {
          "output_type": "stream",
          "name": "stdout",
          "text": [
            "SVC Classification report:\n",
            "               precision    recall  f1-score   support\n",
            "\n",
            "           0       0.61      0.80      0.69      1649\n",
            "           1       0.70      0.48      0.57      1637\n",
            "\n",
            "    accuracy                           0.64      3286\n",
            "   macro avg       0.66      0.64      0.63      3286\n",
            "weighted avg       0.66      0.64      0.63      3286\n",
            "\n",
            "SVC Confusion matrix:\n",
            " [[1322  327]\n",
            " [ 856  781]]\n"
          ]
        }
      ],
      "source": [
        "# Generate a classification report\n",
        "print('SVC Classification report:\\n',classification_report(y_test, svc_pred))\n",
        "svcconf_mat = confusion_matrix(y_true=y_test, y_pred=svc_pred)\n",
        "print('SVC Confusion matrix:\\n', svcconf_mat)"
      ]
    },
    {
      "cell_type": "code",
      "execution_count": null,
      "metadata": {
        "id": "69fNP7H2f_uB",
        "colab": {
          "base_uri": "https://localhost:8080/",
          "height": 279
        },
        "outputId": "c0870cfb-5292-4cba-e118-aa5d1f0ca520"
      },
      "outputs": [
        {
          "output_type": "display_data",
          "data": {
            "text/plain": [
              "<Figure size 432x288 with 2 Axes>"
            ],
            "image/png": "[encoded data removed]"
          },
          "metadata": {
            "needs_background": "light"
          }
        }
      ],
      "source": [
        "svcconf_mat = confusion_matrix(y_test, svc_pred, labels=svc.classes_)\n",
        "disp = ConfusionMatrixDisplay(confusion_matrix=svcconf_mat, display_labels=svc.classes_)\n",
        "disp.plot()\n",
        "plt.show()"
      ]
    },
    {
      "cell_type": "markdown",
      "metadata": {
        "id": "SKKSLut1fADe"
      },
      "source": [
        "#**K-Nearest**"
      ]
    },
    {
      "cell_type": "code",
      "execution_count": null,
      "metadata": {
        "id": "qkD1ecOEe_f3"
      },
      "outputs": [],
      "source": [
        "from sklearn.neighbors import KNeighborsClassifier"
      ]
    },
    {
      "cell_type": "code",
      "execution_count": null,
      "metadata": {
        "id": "DV8h2-EiRxip",
        "colab": {
          "base_uri": "https://localhost:8080/"
        },
        "outputId": "ffbc598e-28be-4f4d-ee9f-4b0bb98be0e7"
      },
      "outputs": [
        {
          "output_type": "stream",
          "name": "stdout",
          "text": [
            "Best n_neighbors: 1\n"
          ]
        }
      ],
      "source": [
        "# Define the k-NN classifier\n",
        "k_neighbors_classifier = KNeighborsClassifier()\n",
        "\n",
        "# Define the range of n_neighbors values to try\n",
        "params = {'n_neighbors': [1, 3, 5, 7, 9, 11, 13, 15, 17, 19]}\n",
        "\n",
        "# Perform a grid search with 5-fold cross-validation\n",
        "grid_search = GridSearchCV(k_neighbors_classifier, param_grid=params, cv=5)\n",
        "grid_search.fit(X_train, y_train)\n",
        "\n",
        "# Print the best value of n_neighbors\n",
        "print('Best n_neighbors:', grid_search.best_params_['n_neighbors'])"
      ]
    },
    {
      "cell_type": "code",
      "execution_count": null,
      "metadata": {
        "id": "Sj6TDg7heSpD"
      },
      "outputs": [],
      "source": [
        "k_neighbors_classifier = KNeighborsClassifier(n_neighbors=1, weights='distance', p=2)"
      ]
    },
    {
      "cell_type": "code",
      "execution_count": null,
      "metadata": {
        "id": "3EdBO9AUd-O9",
        "colab": {
          "base_uri": "https://localhost:8080/"
        },
        "outputId": "74d1b2c6-2159-4310-ef73-8aee91a9e819"
      },
      "outputs": [
        {
          "output_type": "execute_result",
          "data": {
            "text/plain": [
              "KNeighborsClassifier(n_neighbors=1, weights='distance')"
            ]
          },
          "metadata": {},
          "execution_count": 60
        }
      ],
      "source": [
        "k_neighbors_classifier.fit(X_train, y_train)"
      ]
    },
    {
      "cell_type": "code",
      "execution_count": null,
      "metadata": {
        "id": "elFPOg1bd8P1"
      },
      "outputs": [],
      "source": [
        "predictions_knn = k_neighbors_classifier.predict(X_test)"
      ]
    },
    {
      "cell_type": "code",
      "execution_count": null,
      "metadata": {
        "id": "vwdmDzxAfQp5",
        "colab": {
          "base_uri": "https://localhost:8080/"
        },
        "outputId": "cc620a46-e0d3-4597-f23c-8fcce21a3133"
      },
      "outputs": [
        {
          "output_type": "stream",
          "name": "stdout",
          "text": [
            "k-NN score:  0.9701765063907486\n",
            "KNearest Classification report:\n",
            "               precision    recall  f1-score   support\n",
            "\n",
            "           0       0.98      0.96      0.97      1649\n",
            "           1       0.96      0.98      0.97      1637\n",
            "\n",
            "    accuracy                           0.97      3286\n",
            "   macro avg       0.97      0.97      0.97      3286\n",
            "weighted avg       0.97      0.97      0.97      3286\n",
            "\n",
            "confusion matrix\n",
            " [[1590   59]\n",
            " [  39 1598]]\n"
          ]
        }
      ],
      "source": [
        "print('k-NN score: ', k_neighbors_classifier.score(X_test, y_test))\n",
        "confusion_matrix_knn = confusion_matrix(y_test, list(predictions_knn))\n",
        "print('KNearest Classification report:\\n', classification_report(y_test, predictions_knn))\n",
        "print('confusion matrix\\n', confusion_matrix_knn)"
      ]
    },
    {
      "cell_type": "code",
      "execution_count": null,
      "metadata": {
        "id": "q2-SE-4lhS31",
        "colab": {
          "base_uri": "https://localhost:8080/",
          "height": 279
        },
        "outputId": "6923253d-2b2e-4eb2-bae3-59e00db4b51f"
      },
      "outputs": [
        {
          "output_type": "display_data",
          "data": {
            "text/plain": [
              "<Figure size 432x288 with 2 Axes>"
            ],
            "image/png": "[encoded data removed]"
          },
          "metadata": {
            "needs_background": "light"
          }
        }
      ],
      "source": [
        "confusion_matrix_knn = confusion_matrix(y_test, predictions_knn, labels=k_neighbors_classifier.classes_)\n",
        "disp = ConfusionMatrixDisplay(confusion_matrix=confusion_matrix_knn, display_labels=k_neighbors_classifier.classes_)\n",
        "disp.plot()\n",
        "plt.show()"
      ]
    },
    {
      "cell_type": "markdown",
      "metadata": {
        "id": "6_Phk94yeBlj"
      },
      "source": [
        "# **Naive Bayes**"
      ]
    },
    {
      "cell_type": "code",
      "execution_count": null,
      "metadata": {
        "id": "t3uKfkOAesP1"
      },
      "outputs": [],
      "source": [
        "from sklearn.naive_bayes import GaussianNB"
      ]
    },
    {
      "cell_type": "code",
      "execution_count": null,
      "metadata": {
        "id": "l14DHSEZfecc",
        "colab": {
          "base_uri": "https://localhost:8080/"
        },
        "outputId": "9a9cd77a-2c54-4550-c497-7c2e46f335c8"
      },
      "outputs": [
        {
          "output_type": "stream",
          "name": "stdout",
          "text": [
            "Accuracy: 0.98 (+/- 0.02)\n"
          ]
        }
      ],
      "source": [
        "# Define the Naive Bayes classifier\n",
        "naive_bayes = GaussianNB()\n",
        "\n",
        "# Perform 5-fold cross-validation and get the accuracy scores\n",
        "scores = cross_val_score(naive_bayes, norm_X, y, cv=5)\n",
        "\n",
        "# Print the mean and standard deviation of the accuracy scores\n",
        "print('Accuracy: %0.2f (+/- %0.2f)' % (scores.mean(), scores.std() * 2))"
      ]
    },
    {
      "cell_type": "code",
      "execution_count": null,
      "metadata": {
        "id": "iiQ_7n4Vezwl"
      },
      "outputs": [],
      "source": [
        "naive_bayes = GaussianNB()"
      ]
    },
    {
      "cell_type": "code",
      "execution_count": null,
      "metadata": {
        "id": "U5X2aicLe5Rh",
        "colab": {
          "base_uri": "https://localhost:8080/"
        },
        "outputId": "bf00d158-bb21-4947-f404-857e7213ffec"
      },
      "outputs": [
        {
          "output_type": "execute_result",
          "data": {
            "text/plain": [
              "GaussianNB()"
            ]
          },
          "metadata": {},
          "execution_count": 67
        }
      ],
      "source": [
        "naive_bayes.fit(X_train, y_train)"
      ]
    },
    {
      "cell_type": "code",
      "execution_count": null,
      "metadata": {
        "id": "lznwggwRe-Cv"
      },
      "outputs": [],
      "source": [
        "NB_pred = naive_bayes.predict(X_test)"
      ]
    },
    {
      "cell_type": "code",
      "execution_count": null,
      "metadata": {
        "id": "g2IzRBHSheLD",
        "colab": {
          "base_uri": "https://localhost:8080/"
        },
        "outputId": "6dfbfa3d-ad8f-493b-8631-f76501890765"
      },
      "outputs": [
        {
          "output_type": "stream",
          "name": "stdout",
          "text": [
            "Naive Bayes score:  0.7343274497869751\n",
            "Naive Bayes Classification report:\n",
            "               precision    recall  f1-score   support\n",
            "\n",
            "           0       0.66      0.98      0.79      1649\n",
            "           1       0.95      0.49      0.65      1637\n",
            "\n",
            "    accuracy                           0.73      3286\n",
            "   macro avg       0.81      0.73      0.72      3286\n",
            "weighted avg       0.81      0.73      0.72      3286\n",
            "\n",
            "confusion matrix\n",
            " [[1610   39]\n",
            " [ 834  803]]\n"
          ]
        }
      ],
      "source": [
        "print('Naive Bayes score: ', naive_bayes.score(X_test, y_test))\n",
        "NB_confusion_matrix = confusion_matrix(y_test, list(NB_pred))\n",
        "print('Naive Bayes Classification report:\\n', classification_report(y_test, NB_pred))\n",
        "print('confusion matrix\\n', NB_confusion_matrix)"
      ]
    },
    {
      "cell_type": "code",
      "execution_count": null,
      "metadata": {
        "id": "xvsZjx9LhxW-",
        "colab": {
          "base_uri": "https://localhost:8080/",
          "height": 282
        },
        "outputId": "d85b29d1-5e89-43ae-ff67-8ac83a488f58"
      },
      "outputs": [
        {
          "output_type": "display_data",
          "data": {
            "text/plain": [
              "<Figure size 432x288 with 2 Axes>"
            ],
            "image/png": "[encoded data removed]"
          },
          "metadata": {
            "needs_background": "light"
          }
        }
      ],
      "source": [
        "NB_confusion_matrix = confusion_matrix(y_test, NB_pred, labels=naive_bayes.classes_)\n",
        "disp = ConfusionMatrixDisplay(confusion_matrix=NB_confusion_matrix, display_labels=naive_bayes.classes_)\n",
        "disp.plot()\n",
        "plt.show()"
      ]
    },
    {
      "cell_type": "markdown",
      "metadata": {
        "id": "QDe4d2ORFBNY"
      },
      "source": [
        "# Comparing fitting of the models with under sampling"
      ]
    },
    {
      "cell_type": "code",
      "execution_count": null,
      "metadata": {
        "id": "Ka5ax7X4F0oe",
        "colab": {
          "base_uri": "https://localhost:8080/",
          "height": 295
        },
        "outputId": "cd46f5fa-65dd-46b6-d0a9-4665e57e3010"
      },
      "outputs": [
        {
          "output_type": "display_data",
          "data": {
            "text/plain": [
              "<Figure size 432x288 with 1 Axes>"
            ],
            "image/png": "[encoded data removed]"
          },
          "metadata": {
            "needs_background": "light"
          }
        }
      ],
      "source": [
        "# Define the models to be compared\n",
        "models = [LogisticRegression(), DecisionTreeClassifier(), GaussianNB(), SVC(probability=True), KNeighborsClassifier()]\n",
        "\n",
        "# Train and evaluate each model\n",
        "for model in models:\n",
        "    # Train the model\n",
        "    model.fit(X_train, y_train)\n",
        "    # Predict on the test set\n",
        "    y_pred = model.predict_proba(X_test)[:, 1]\n",
        "    # Calculate ROC curve and AUC score\n",
        "    fpr, tpr, thresholds = roc_curve(y_test, y_pred)\n",
        "    auc = roc_auc_score(y_test, y_pred)\n",
        "    # Plot the ROC curve\n",
        "    plt.plot(fpr, tpr, label=model.__class__.__name__ + ' (AUC = %0.2f)' % auc)\n",
        "\n",
        "# Set plot labels and legend\n",
        "plt.xlabel('False Positive Rate')\n",
        "plt.ylabel('True Positive Rate')\n",
        "plt.title('ROC Curve')\n",
        "plt.legend(loc=\"lower right\")\n",
        "\n",
        "# Show plot\n",
        "plt.show()"
      ]
    },
    {
      "cell_type": "markdown",
      "metadata": {
        "id": "4tQdauhNElbY"
      },
      "source": [
        "# Evaluate Models Performance"
      ]
    },
    {
      "cell_type": "code",
      "execution_count": null,
      "metadata": {
        "id": "8dNSCle7EuNi"
      },
      "outputs": [],
      "source": [
        "from sklearn.model_selection import KFold\n",
        "from sklearn.metrics import f1_score"
      ]
    },
    {
      "cell_type": "code",
      "execution_count": null,
      "metadata": {
        "colab": {
          "base_uri": "https://localhost:8080/"
        },
        "id": "uSjMNQzCODvL",
        "outputId": "0e4e723f-e7eb-47ca-bb5d-3e712d93c2e7"
      },
      "outputs": [
        {
          "output_type": "stream",
          "name": "stdout",
          "text": [
            "  Model  F1 Score\n",
            "1    DT  0.989973\n",
            "3    KN  0.967040\n",
            "4   SVM  0.750580\n",
            "0    LR  0.667798\n",
            "2   GNB  0.647842\n"
          ]
        }
      ],
      "source": [
        "models = []\n",
        "models.append(('LR', LogisticRegression()))\n",
        "models.append(('DT', DecisionTreeClassifier()))\n",
        "models.append(('GNB', GaussianNB()))\n",
        "models.append(('KN', KNeighborsClassifier()))\n",
        "models.append(('SVM', SVC()))\n",
        "\n",
        "# Train and evaluate models\n",
        "results = []\n",
        "for name, model in models:\n",
        "    model.fit(X_train, y_train)\n",
        "    y_pred = model.predict(X_test)\n",
        "    f1 = f1_score(y_test, y_pred)\n",
        "    results.append({'Model': name, 'F1 Score': f1})\n",
        "\n",
        "# Create DataFrame of results\n",
        "ranking = pd.DataFrame(results)\n",
        "ranking = ranking.sort_values(by='F1 Score', ascending=False)\n",
        "\n",
        "print(ranking)"
      ]
    },
    {
      "cell_type": "code",
      "execution_count": null,
      "metadata": {
        "colab": {
          "base_uri": "https://localhost:8080/",
          "height": 206
        },
        "id": "Uw82VP76Qqq8",
        "outputId": "56eecb85-0ac6-4784-d8f6-88ffc52f1298"
      },
      "outputs": [
        {
          "output_type": "execute_result",
          "data": {
            "text/plain": [
              "  Model  F1 Score\n",
              "1    DT  0.989973\n",
              "3    KN  0.967040\n",
              "4   SVM  0.750580\n",
              "0    LR  0.667798\n",
              "2   GNB  0.647842"
            ],
            "text/html": [
              "\n",
              "  <div id=\"df-66ade224-ca3f-4748-a1e0-9e1a3bcf1d90\">\n",
              "    <div class=\"colab-df-container\">\n",
              "      <div>\n",
              "<style scoped>\n",
              "    .dataframe tbody tr th:only-of-type {\n",
              "        vertical-align: middle;\n",
              "    }\n",
              "\n",
              "    .dataframe tbody tr th {\n",
              "        vertical-align: top;\n",
              "    }\n",
              "\n",
              "    .dataframe thead th {\n",
              "        text-align: right;\n",
              "    }\n",
              "</style>\n",
              "<table border=\"1\" class=\"dataframe\">\n",
              "  <thead>\n",
              "    <tr style=\"text-align: right;\">\n",
              "      <th></th>\n",
              "      <th>Model</th>\n",
              "      <th>F1 Score</th>\n",
              "    </tr>\n",
              "  </thead>\n",
              "  <tbody>\n",
              "    <tr>\n",
              "      <th>1</th>\n",
              "      <td>DT</td>\n",
              "      <td>0.989973</td>\n",
              "    </tr>\n",
              "    <tr>\n",
              "      <th>3</th>\n",
              "      <td>KN</td>\n",
              "      <td>0.967040</td>\n",
              "    </tr>\n",
              "    <tr>\n",
              "      <th>4</th>\n",
              "      <td>SVM</td>\n",
              "      <td>0.750580</td>\n",
              "    </tr>\n",
              "    <tr>\n",
              "      <th>0</th>\n",
              "      <td>LR</td>\n",
              "      <td>0.667798</td>\n",
              "    </tr>\n",
              "    <tr>\n",
              "      <th>2</th>\n",
              "      <td>GNB</td>\n",
              "      <td>0.647842</td>\n",
              "    </tr>\n",
              "  </tbody>\n",
              "</table>\n",
              "</div>\n",
              "      <button class=\"colab-df-convert\" onclick=\"convertToInteractive('df-66ade224-ca3f-4748-a1e0-9e1a3bcf1d90')\"\n",
              "              title=\"Convert this dataframe to an interactive table.\"\n",
              "              style=\"display:none;\">\n",
              "        \n",
              "  <svg xmlns=\"http://www.w3.org/2000/svg\" height=\"24px\"viewBox=\"0 0 24 24\"\n",
              "       width=\"24px\">\n",
              "    <path d=\"M0 0h24v24H0V0z\" fill=\"none\"/>\n",
              "    <path d=\"M18.56 5.44l.94 2.06.94-2.06 2.06-.94-2.06-.94-.94-2.06-.94 2.06-2.06.94zm-11 1L8.5 8.5l.94-2.06 2.06-.94-2.06-.94L8.5 2.5l-.94 2.06-2.06.94zm10 10l.94 2.06.94-2.06 2.06-.94-2.06-.94-.94-2.06-.94 2.06-2.06.94z\"/><path d=\"M17.41 7.96l-1.37-1.37c-.4-.4-.92-.59-1.43-.59-.52 0-1.04.2-1.43.59L10.3 9.45l-7.72 7.72c-.78.78-.78 2.05 0 2.83L4 21.41c.39.39.9.59 1.41.59.51 0 1.02-.2 1.41-.59l7.78-7.78 2.81-2.81c.8-.78.8-2.07 0-2.86zM5.41 20L4 18.59l7.72-7.72 1.47 1.35L5.41 20z\"/>\n",
              "  </svg>\n",
              "      </button>\n",
              "      \n",
              "  <style>\n",
              "    .colab-df-container {\n",
              "      display:flex;\n",
              "      flex-wrap:wrap;\n",
              "      gap: 12px;\n",
              "    }\n",
              "\n",
              "    .colab-df-convert {\n",
              "      background-color: #E8F0FE;\n",
              "      border: none;\n",
              "      border-radius: 50%;\n",
              "      cursor: pointer;\n",
              "      display: none;\n",
              "      fill: #1967D2;\n",
              "      height: 32px;\n",
              "      padding: 0 0 0 0;\n",
              "      width: 32px;\n",
              "    }\n",
              "\n",
              "    .colab-df-convert:hover {\n",
              "      background-color: #E2EBFA;\n",
              "      box-shadow: 0px 1px 2px rgba(60, 64, 67, 0.3), 0px 1px 3px 1px rgba(60, 64, 67, 0.15);\n",
              "      fill: #174EA6;\n",
              "    }\n",
              "\n",
              "    [theme=dark] .colab-df-convert {\n",
              "      background-color: #3B4455;\n",
              "      fill: #D2E3FC;\n",
              "    }\n",
              "\n",
              "    [theme=dark] .colab-df-convert:hover {\n",
              "      background-color: #434B5C;\n",
              "      box-shadow: 0px 1px 3px 1px rgba(0, 0, 0, 0.15);\n",
              "      filter: drop-shadow(0px 1px 2px rgba(0, 0, 0, 0.3));\n",
              "      fill: #FFFFFF;\n",
              "    }\n",
              "  </style>\n",
              "\n",
              "      <script>\n",
              "        const buttonEl =\n",
              "          document.querySelector('#df-66ade224-ca3f-4748-a1e0-9e1a3bcf1d90 button.colab-df-convert');\n",
              "        buttonEl.style.display =\n",
              "          google.colab.kernel.accessAllowed ? 'block' : 'none';\n",
              "\n",
              "        async function convertToInteractive(key) {\n",
              "          const element = document.querySelector('#df-66ade224-ca3f-4748-a1e0-9e1a3bcf1d90');\n",
              "          const dataTable =\n",
              "            await google.colab.kernel.invokeFunction('convertToInteractive',\n",
              "                                                     [key], {});\n",
              "          if (!dataTable) return;\n",
              "\n",
              "          const docLinkHtml = 'Like what you see? Visit the ' +\n",
              "            '<a target=\"_blank\" href=https://colab.research.google.com/notebooks/data_table.ipynb>data table notebook</a>'\n",
              "            + ' to learn more about interactive tables.';\n",
              "          element.innerHTML = '';\n",
              "          dataTable['output_type'] = 'display_data';\n",
              "          await google.colab.output.renderOutput(dataTable, element);\n",
              "          const docLink = document.createElement('div');\n",
              "          docLink.innerHTML = docLinkHtml;\n",
              "          element.appendChild(docLink);\n",
              "        }\n",
              "      </script>\n",
              "    </div>\n",
              "  </div>\n",
              "  "
            ]
          },
          "metadata": {},
          "execution_count": 74
        }
      ],
      "source": [
        "ranking"
      ]
    }
  ],
  "metadata": {
    "colab": {
      "provenance": []
    },
    "kernelspec": {
      "display_name": "Python 3",
      "name": "python3"
    },
    "language_info": {
      "name": "python"
    }
  },
  "nbformat": 4,
  "nbformat_minor": 0
}